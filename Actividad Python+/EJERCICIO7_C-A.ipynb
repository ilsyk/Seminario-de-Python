{
 "cells": [
  {
   "cell_type": "markdown",
   "id": "b015a19f",
   "metadata": {},
   "source": [
    "# Actividad 1 por Python plus\n"
   ]
  },
  {
   "cell_type": "markdown",
   "id": "b0d0ad1d",
   "metadata": {},
   "source": [
    "## Parte I: resolvé el siguiente desafío:"
   ]
  },
  {
   "cell_type": "markdown",
   "id": "8254357a",
   "metadata": {},
   "source": [
    "EJERCICIO 7: dado el archivo denominado [BBB_nuevo.csv](https://archivos.linti.unlp.edu.ar/index.php/s/q9b3rCrlhOS1yWU) que contiene los accesos al recurso BigBlueButton que usamos para las clases virtuales de la materia, se desea generar una función que retorne los 3 usuarios con menos actividad registrada."
   ]
  },
  {
   "cell_type": "code",
   "execution_count": 1,
   "id": "5021bb7c",
   "metadata": {},
   "outputs": [],
   "source": [
    "#Solución\n",
    "import csv\n",
    "from collections import Counter\n",
    "\n",
    "\n",
    "def funcion():\n",
    "\twith open(\"BBB_nuevo.csv\", mode=\"r\", encoding=\"utf8\") as archivo:\n",
    "\t\treader = csv.reader(archivo, delimiter=\",\")\n",
    "\t\t# tomo solo los usuarios\n",
    "\t\tusuarios = list(map(lambda user: user[1], reader))\n",
    "\n",
    "\t# cuento la cantidad de veces que aparece cada usuario\n",
    "\tcontador = Counter(usuarios).most_common()\n",
    "\tmenos_actividad = []\n",
    "\n",
    "\t# tomo los ultimos tres y los agrego a la lista\n",
    "\tfor i in range(len(contador)-1, len(contador)-4, -1):\n",
    "\t\tmenos_actividad.append(contador[i])\n",
    "\t\n",
    "\treturn menos_actividad\n",
    "\n",
    "\n",
    "inactivos = funcion()\n",
    "print(inactivos)"
   ]
  }
 ],
 "metadata": {
  "kernelspec": {
   "display_name": "Python 3 (ipykernel)",
   "language": "python",
   "name": "python3"
  },
  "language_info": {
   "codemirror_mode": {
    "name": "ipython",
    "version": 3
   },
   "file_extension": ".py",
   "mimetype": "text/x-python",
   "name": "python",
   "nbconvert_exporter": "python",
   "pygments_lexer": "ipython3",
   "version": "3.10.2"
  }
 },
 "nbformat": 4,
 "nbformat_minor": 5
}
