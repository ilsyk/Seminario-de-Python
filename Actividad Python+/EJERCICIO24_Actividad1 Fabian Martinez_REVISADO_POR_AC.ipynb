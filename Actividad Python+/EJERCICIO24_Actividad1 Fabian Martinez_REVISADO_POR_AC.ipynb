{
 "cells": [
  {
   "cell_type": "markdown",
   "id": "14df4a10",
   "metadata": {},
   "source": [
    "# Actividad 1 por Python plus\n"
   ]
  },
  {
   "cell_type": "markdown",
   "id": "eb80dfd8",
   "metadata": {},
   "source": [
    "## Parte I\n",
    "\n",
    "### Solución propuesta por tu compañero/a\n"
   ]
  },
  {
   "cell_type": "markdown",
   "id": "b2c22533",
   "metadata": {},
   "source": [
    "### -- Copiá acá el enunciado a corregir --\n",
    "\n",
    "Incluí también la URL del cuaderno asignado"
   ]
  },
  {
   "cell_type": "code",
   "execution_count": null,
   "id": "ced69cb2",
   "metadata": {
    "scrolled": true
   },
   "outputs": [],
   "source": [
    "#Solución prppuesta por tu compañero/a\n",
    "\n",
    "# En la celda de abajo está el ejercicio con errores arreglados.\n",
    "\n",
    "import os\n",
    "import csv\n",
    "\n",
    "def Pokemon():\n",
    "    file = open(nuevo, \"w\")\n",
    "    with open(nombre, newline='') as File:  \n",
    "        reader = csv.reader(File)\n",
    "        for row in reader:\n",
    "            mayusculas = len([c for c in row[1] if c.isupper()])\n",
    "            if (row[11]== 1) | (row[11]== 2) & ((mayusculas>1) & (row[4]>500)):\n",
    "                file.write(str(row) + os.linesep)\n",
    "    file.close()\n",
    "nombre = 'Pokemon.csv'\n",
    "nuevo = 'NuevosPoke.txt'\n",
    "Pokemon(nombre,nuevo)\n",
    "\n",
    "https://drive.google.com/file/d/1V6anPCvo9jNH-L6eIEdZpCtQniaSUVId/view?usp=sharing"
   ]
  },
  {
   "cell_type": "code",
   "execution_count": null,
   "id": "31ccad95",
   "metadata": {},
   "outputs": [],
   "source": [
    "\n",
    "# \n",
    "\n",
    "import os\n",
    "import csv\n",
    "\n",
    "def Pokemon():\n",
    "    file = open(nuevo, \"w\")\n",
    "    with open(nombre, newline='') as File:  \n",
    "        reader = csv.reader(File)\n",
    "        for row in reader:\n",
    "            mayusculas = len([c for c in row[1] if c.isupper()])\n",
    "            if (((row[11]== \"1\") | (row[11]== \"2\")) & (mayusculas>1) & (row[4]<\"500\")):\n",
    "                file.write(str(row) + os.linesep)\n",
    "    file.close()\n",
    "nombre = 'Pokemon.csv'\n",
    "nuevo = 'NuevosPoke.txt'\n",
    "Pokemon()\n"
   ]
  },
  {
   "cell_type": "markdown",
   "id": "1eae6299",
   "metadata": {},
   "source": [
    "## Parte II "
   ]
  },
  {
   "cell_type": "markdown",
   "id": "4e9717da",
   "metadata": {},
   "source": [
    "### Calificá de acuerdo a las siguientes pautas:"
   ]
  },
  {
   "cell_type": "code",
   "execution_count": 2,
   "id": "2762a6c2",
   "metadata": {
    "scrolled": true
   },
   "outputs": [],
   "source": [
    "# Puntos acumulados del trabajo de mi conpañero/a\n",
    "puntos_parte_I = 0"
   ]
  },
  {
   "cell_type": "markdown",
   "id": "fb152d91",
   "metadata": {},
   "source": [
    "1.- **¿El algoritmo para el procesamiento de datos es correcto?:** +5 puntos\n",
    "\n",
    "- Suma 5 puntos si, inpendientemente si define una función o guarda los datos en un archivo como lo pide el enunciado.\n"
   ]
  },
  {
   "cell_type": "code",
   "execution_count": 3,
   "id": "00a9cdca",
   "metadata": {
    "scrolled": true
   },
   "outputs": [],
   "source": [
    "# puntos a sumar de esta consigna:\n",
    "puntos_parte_I += 5\n",
    "\n",
    "# Tiene errores menores en las comparaciones (errores de paréntesis, compara cadenas con enteros),\n",
    "# además intenta guardar los pokemones con Total mayor a 500 (el enunciado pide menor a 500),\n",
    "# pero la lógica es correcta.\n",
    "\n",
    "# El compañero interpretó que un nombre está compuesto por dos palabras o más cuando el mismo\n",
    "# tiene dos o más mayúsculas, pero esto es una cuestión de interpretación del enunciado, por eso\n",
    "# considero que esa parte del ejercicio está bien."
   ]
  },
  {
   "cell_type": "markdown",
   "id": "43ba367c",
   "metadata": {},
   "source": [
    "2.-**¿Define la función o genera el archivo de acuerdo a lo pedido??**: +10 puntos\n",
    "\n",
    "- Suma 5 puntos: si lo hace pero presenta algún error.\n",
    "\n",
    "- Suma 10 puntos: si está correcto"
   ]
  },
  {
   "cell_type": "code",
   "execution_count": 4,
   "id": "e3963e5d",
   "metadata": {
    "scrolled": true
   },
   "outputs": [],
   "source": [
    "# puntos a sumar de esta consigna:\n",
    "puntos_parte_I += 5"
   ]
  },
  {
   "cell_type": "markdown",
   "id": "e619052f",
   "metadata": {},
   "source": [
    "3.- **Sobre el acceso al archivo de datos:** -10  a 5 puntos\n",
    "\n",
    "- Descuento 5 puntos si lo abre utilizando una ruta absoluta (ejemplo: /home/archivo/archivo.csv)\n",
    "- Descuento 5 puntos si no se cierra el archivo.\n",
    "- Suma 5 puntos si usa adecuadamente la sentencia with."
   ]
  },
  {
   "cell_type": "code",
   "execution_count": 5,
   "id": "b55c9896",
   "metadata": {
    "scrolled": true
   },
   "outputs": [],
   "source": [
    "# puntos a sumar de esta consigna:\n",
    "puntos_parte_I += 5"
   ]
  },
  {
   "cell_type": "markdown",
   "id": "1670ee4b",
   "metadata": {},
   "source": [
    "4.- **Alguna otra falla o detalles que quieras marcar?**: - 5 puntos\n",
    "\n",
    "- Especificá cuál es el error que encontrás"
   ]
  },
  {
   "cell_type": "code",
   "execution_count": 6,
   "id": "1e985faa",
   "metadata": {
    "scrolled": true
   },
   "outputs": [],
   "source": [
    "# puntos a descontar de esta consigna:\n",
    "puntos_parte_I -= 5\n",
    "\n",
    "# La función Pokemon la define sin parámetros, pero cuando la invoca le pasa dos parámetros."
   ]
  },
  {
   "cell_type": "markdown",
   "id": "50b1c6fc",
   "metadata": {},
   "source": [
    "### Total de puntos de la actividad (parte I):"
   ]
  },
  {
   "cell_type": "code",
   "execution_count": null,
   "id": "afbe1851",
   "metadata": {
    "scrolled": true
   },
   "outputs": [],
   "source": [
    "print(f\"Puntos actividad 1 - Parte I: {puntos_parte_I if puntos_parte_I >0 else 0}\")"
   ]
  },
  {
   "cell_type": "markdown",
   "id": "34aa40a5",
   "metadata": {},
   "source": [
    "### ¿Algo más que no fue considerado?"
   ]
  },
  {
   "cell_type": "markdown",
   "id": "1e1f3415",
   "metadata": {},
   "source": [
    "--- Dejá acá tus comentarios ---"
   ]
  },
  {
   "cell_type": "markdown",
   "id": "dc26afe2",
   "metadata": {},
   "source": [
    "## Parte II - Total 40 puntos"
   ]
  },
  {
   "cell_type": "code",
   "execution_count": null,
   "id": "a397db33",
   "metadata": {
    "scrolled": true
   },
   "outputs": [],
   "source": [
    "# Puntos acumulados de mi parte II- A COMPLETAR POR LA CATEDRA\n",
    "puntos_parte_II = 0"
   ]
  },
  {
   "cell_type": "markdown",
   "id": "93b1dce8",
   "metadata": {},
   "source": [
    "### Corrección de la parte I de mi compañero/a: 10 puntos\n",
    "\n",
    "- Suma 10 puntos si la evaluación realizada es correcta.\n",
    "- Suma 5 puntos si la sección de arhivos está mal evaluada pero el resto es correcta.\n",
    "- Suma 5 puntos si la sección está bien evalauda pero el resto no. "
   ]
  },
  {
   "cell_type": "code",
   "execution_count": null,
   "id": "8ebab756",
   "metadata": {
    "scrolled": true
   },
   "outputs": [],
   "source": [
    "# Sumo puntos de la sección - A COMPLETAR POR LA CATEDRA\n",
    "puntos_parte_II += 0"
   ]
  },
  {
   "cell_type": "markdown",
   "id": "b6836a8f",
   "metadata": {},
   "source": [
    "### Análisis de la  solución propuesta por mi compañero/a: 10 puntos"
   ]
  },
  {
   "cell_type": "markdown",
   "id": "3631026c",
   "metadata": {},
   "source": [
    "- **¿Qué estructuras de datos usa para recorrer los datos ingresados desde el archivo?** 3 puntos.\n",
    "\n",
    "Un reader (?\n",
    "\n",
    "- **¿Usa expresiones lambda, funciones map, filter, reduce lu otra similar? ¿Están correctamente definidas?** 2 puntos.\n",
    "\n",
    "No las usa.\n",
    "\n",
    "- **Recorre el archivo más de lo ecesario para resolver el ejercicio? Justificar!!** 5 puntos si justifica.\n",
    "\n",
    "No. Sólo lo recorre una vez mientras intenta generar el archivo nuevo.\n"
   ]
  },
  {
   "cell_type": "code",
   "execution_count": null,
   "id": "d63dc7e9",
   "metadata": {
    "scrolled": true
   },
   "outputs": [],
   "source": [
    "# Sumo puntos de la sección - A COMPLETAR POR LA CATEDRA\n",
    "puntos_parte_II += 0"
   ]
  },
  {
   "cell_type": "markdown",
   "id": "29fdc855",
   "metadata": {},
   "source": [
    "### Escribí una solución alternativa a la planteada por tu compañero/a: 20 puntos\n",
    "Esta solución será evaluada de acuerdo a las mismas pautas establecidas en este cuaderno."
   ]
  },
  {
   "cell_type": "code",
   "execution_count": null,
   "id": "9a1bc0dc",
   "metadata": {
    "scrolled": true
   },
   "outputs": [],
   "source": [
    "# Solución alternativa\n",
    "\n",
    "import csv\n",
    "import os\n",
    "\n",
    "file_path = os.path.join(os.getcwd(), \"Pokemon.csv\")\n",
    "\n",
    "def validar(row):\n",
    "\t# si sen cumplen las condiciones dadas, retorna verdadero (se agrega la línea al archivo nuevo)\n",
    "\tif ((row[11] == \"1\" or row[11] == \"2\") and len(row[1].split()) > 1 and row[4] < \"500\"):\n",
    "\t\treturn True\n",
    "\n",
    "def Pokemon():\n",
    "\t\"\"\"\n",
    "\tA partir del archivo dado, genera un nuevo archivo csv con los pokemones pedidos.\n",
    "\t\"\"\"\n",
    "\t# abro archivo dado por la cátedra en modo lectura\n",
    "\twith open(file_path, mode=\"r\", encoding=\"utf8\") as file:\n",
    "\t\treader = csv.reader(file, delimiter=\",\")\n",
    "\t\t# abro (creo) el archivo nuevo\n",
    "\t\twith open(\"new_pokemon.csv\", mode=\"w\", newline=\"\", encoding=\"utf8\") as new_file:\n",
    "\t\t\twriter = csv.writer(new_file)\n",
    "\t\t\t# escribo la cabecera en el archivo nuevo\n",
    "\t\t\twriter.writerow(reader.__next__())\n",
    "\t\t\t# escribo cada pokemon que cumple las condiciones en el archivo nuevo \n",
    "\t\t\twriter.writerows(filter(validar, reader))\n",
    "\treturn new_file\n",
    "\n",
    "Pokemon()"
   ]
  },
  {
   "cell_type": "code",
   "execution_count": null,
   "id": "b61dae7c",
   "metadata": {
    "scrolled": true
   },
   "outputs": [],
   "source": [
    "# Sumo puntos de la sección - A COMPLETAR POR LA CATEDRA\n",
    "puntos_parte_II += 0"
   ]
  },
  {
   "cell_type": "markdown",
   "id": "b0ba1701",
   "metadata": {},
   "source": [
    "### Total puntos de la actividad"
   ]
  },
  {
   "cell_type": "code",
   "execution_count": null,
   "id": "8248b652",
   "metadata": {
    "scrolled": true
   },
   "outputs": [],
   "source": [
    "print(f\"Puntos actividad 1 - Parte II: {puntos_parte_II if puntos_parte_II >0 else 0}\")"
   ]
  }
 ],
 "metadata": {
  "kernelspec": {
   "display_name": "Python 3 (ipykernel)",
   "language": "python",
   "name": "python3"
  },
  "language_info": {
   "codemirror_mode": {
    "name": "ipython",
    "version": 3
   },
   "file_extension": ".py",
   "mimetype": "text/x-python",
   "name": "python",
   "nbconvert_exporter": "python",
   "pygments_lexer": "ipython3",
   "version": "3.8.10"
  }
 },
 "nbformat": 4,
 "nbformat_minor": 5
}
