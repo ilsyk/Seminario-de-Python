{
 "cells": [
  {
   "cell_type": "markdown",
   "id": "29f744d4",
   "metadata": {},
   "source": [
    "1. Primero abro los archivos con open as, así me aseguro que se cierren, en modo lectura. Para el archivo de nombres uso la codificación utf-8 porque tiraba error.\n",
    "2. Con los métodos read, replace y split, leo los archivos de texto, quito las comas y comillas que tienen dentro y los devuelvo en listas de cadenas."
   ]
  },
  {
   "cell_type": "code",
   "execution_count": null,
   "id": "25ff0e47",
   "metadata": {},
   "outputs": [],
   "source": [
    "with open(\"nombres_1.txt\", mode=\"r\", encoding=\"utf8\") as archivo_nombres:\n",
    "    nombres = archivo_nombres.read().replace(\",\", \"\").replace(\"'\", \"\").split()\n",
    "with open(\"eval1.txt\", mode=\"r\") as archivo_evaluacion1:\n",
    "    evaluacion1 = archivo_evaluacion1.read().replace(\",\", \"\").split()\n",
    "with open(\"eval2.txt\", mode=\"r\") as archivo_evaluacion2:\n",
    "    evaluacion2 = archivo_evaluacion2.read().replace(\",\", \"\").split()"
   ]
  },
  {
   "cell_type": "markdown",
   "id": "ca7d810c",
   "metadata": {},
   "source": [
    "3. Voy leyendo los nombres, generando tuplas con el nombre y la suma de ambas notas(en relación con el nombre). Las tuplas las voy agregando en una lista."
   ]
  },
  {
   "cell_type": "code",
   "execution_count": null,
   "id": "6de2faf1",
   "metadata": {},
   "outputs": [],
   "source": [
    "def generar_lista (lista_nombres, eval1, eval2):\n",
    "    pos = 0\n",
    "    lista = []\n",
    "    for nombre in lista_nombres:\n",
    "        tupla = (nombre, int(eval1[pos]) + int(eval2[pos]))\n",
    "        lista.append(tupla)\n",
    "        pos += 1\n",
    "    return lista"
   ]
  },
  {
   "cell_type": "markdown",
   "id": "550354a3",
   "metadata": {},
   "source": [
    "4. Recorro la lista generada anteriormente, voy tomando y sumando las notas en un contador, después divido ese el total de dicho contador por el número de alumnos y obtengo el promedio."
   ]
  },
  {
   "cell_type": "code",
   "execution_count": null,
   "id": "59dbafa2",
   "metadata": {},
   "outputs": [],
   "source": [
    "def calcular_promedio(alumnos):\n",
    "    total_notas = 0\n",
    "    for nota in alumnos:\n",
    "        total_notas += nota[1]\n",
    "    promedio = total_notas / len(alumnos)\n",
    "    return promedio"
   ]
  },
  {
   "cell_type": "markdown",
   "id": "11b8c013",
   "metadata": {},
   "source": [
    "5. Com la lista generada en el punto 3 y el promedio calculado en el punto 4, voy recorriendo la lista e imprimiendo en pantalla los alumnos con nota inferior al promedio."
   ]
  },
  {
   "cell_type": "code",
   "execution_count": null,
   "id": "e6670836",
   "metadata": {},
   "outputs": [],
   "source": [
    "def informar(alumnos, prom):\n",
    "    for nota in alumnos:\n",
    "        if nota [1] < prom:\n",
    "            print(f\"El alumno {nota[0]} tiene una nota menor al promedio\")"
   ]
  },
  {
   "cell_type": "code",
   "execution_count": null,
   "id": "ac023281",
   "metadata": {},
   "outputs": [],
   "source": [
    "estudiantes = generar_lista(nombres, evaluacion1, evaluacion2)\n",
    "promedio = calcular_promedio(estudiantes)\n",
    "informar(estudiantes, promedio)"
   ]
  }
 ],
 "metadata": {
  "kernelspec": {
   "display_name": "Python 3 (ipykernel)",
   "language": "python",
   "name": "python3"
  },
  "language_info": {
   "codemirror_mode": {
    "name": "ipython",
    "version": 3
   },
   "file_extension": ".py",
   "mimetype": "text/x-python",
   "name": "python",
   "nbconvert_exporter": "python",
   "pygments_lexer": "ipython3",
   "version": "3.8.10"
  }
 },
 "nbformat": 4,
 "nbformat_minor": 5
}
